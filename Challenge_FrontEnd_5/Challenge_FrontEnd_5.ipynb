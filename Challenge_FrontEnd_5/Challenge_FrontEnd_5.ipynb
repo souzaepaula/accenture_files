{
 "cells": [
  {
   "cell_type": "code",
   "execution_count": 233,
   "metadata": {},
   "outputs": [],
   "source": [
    "#QA Automation Challenge FrontEnd 5\n",
    "#Rodrigo de Paula\n",
    "#Oct 2024\n",
    "\n",
    "#Libs \n",
    "from selenium import webdriver \n",
    "from selenium.webdriver.common.by import By \n",
    "from selenium.webdriver.common.keys import Keys \n",
    "from selenium.webdriver.support import expected_conditions as EC\n",
    "from selenium.webdriver.support.wait import WebDriverWait\n",
    "from selenium.webdriver.chrome.options import Options\n",
    "from selenium.webdriver.common.action_chains import ActionChains\n",
    "import time "
   ]
  },
  {
   "cell_type": "code",
   "execution_count": 234,
   "metadata": {},
   "outputs": [],
   "source": [
    "#Creating drive connection \n",
    "chrome_options = Options()\n",
    "chrome_options.add_argument(\"--start-maximized\")\n",
    "driver = webdriver.Chrome(options=chrome_options)"
   ]
  },
  {
   "cell_type": "code",
   "execution_count": 235,
   "metadata": {},
   "outputs": [],
   "source": [
    "#Accessing the URL: https://demoqa.com/\n",
    "driver.get('https://demoqa.com/')"
   ]
  },
  {
   "cell_type": "code",
   "execution_count": 236,
   "metadata": {},
   "outputs": [],
   "source": [
    "#Acessing the Interactions page\n",
    "wait = WebDriverWait(driver, 10)\n",
    "element = wait.until(EC.presence_of_element_located((By.XPATH, \"//*[@id='app']/div/div/div[2]/div/div[5]\")))\n",
    "driver.execute_script(\"arguments[0].scrollIntoView();\", element)\n",
    "element.click()"
   ]
  },
  {
   "cell_type": "code",
   "execution_count": 237,
   "metadata": {},
   "outputs": [],
   "source": [
    "#Acessing sortable section  \n",
    "wait = WebDriverWait(driver, 10)\n",
    "element = wait.until(EC.presence_of_element_located((By.XPATH, \"/html/body/div[2]/div/div/div/div[1]/div/div/div[5]/div/ul/li[1]\")))\n",
    "driver.execute_script(\"arguments[0].scrollIntoView();\", element)\n",
    "element.click()"
   ]
  },
  {
   "cell_type": "code",
   "execution_count": 238,
   "metadata": {},
   "outputs": [],
   "source": [
    "#Finding elements on the page \n",
    "wait = WebDriverWait(driver, 10)\n",
    "element = wait.until(EC.presence_of_element_located((By.XPATH, \"//*[@id='demo-tab-list']\")))\n",
    "driver.execute_script(\"arguments[0].scrollIntoView();\", element)"
   ]
  },
  {
   "cell_type": "code",
   "execution_count": 239,
   "metadata": {},
   "outputs": [],
   "source": [
    "time.sleep(2)\n",
    "wait = WebDriverWait(driver, 10)\n",
    "element = wait.until(EC.presence_of_element_located((By.XPATH, \"//*[@id='demo-tab-list']\")))\n",
    "driver.execute_script(\"arguments[0].scrollIntoView();\", element)\n",
    "\n",
    "elemento_drag = driver.find_element(By.XPATH, \"//*[@id='demo-tabpane-list']/div/div[6]\")\n",
    "elemento_drop = driver.find_element(By.XPATH, \"//*[@id='demo-tabpane-list']/div/div[1]\")   \n",
    "  \n",
    "actions = ActionChains(driver)\n",
    "actions.drag_and_drop(elemento_drag, elemento_drop).perform()\n",
    "time.sleep(2) \n",
    "\n",
    "wait = WebDriverWait(driver, 10)\n",
    "element = wait.until(EC.presence_of_element_located((By.XPATH, \"//*[@id='demo-tab-list']\")))\n",
    "driver.execute_script(\"arguments[0].scrollIntoView();\", element)\n",
    "\n",
    "elemento_drag = driver.find_element(By.XPATH, \"//*[@id='demo-tabpane-list']/div/div[6]\")\n",
    "elemento_drop = driver.find_element(By.XPATH, \"//*[@id='demo-tabpane-list']/div/div[2]\")   \n",
    "\n",
    "actions = ActionChains(driver)\n",
    "actions.drag_and_drop(elemento_drag, elemento_drop).perform()\n",
    "time.sleep(2) \n",
    "\n",
    "wait = WebDriverWait(driver, 10)\n",
    "element = wait.until(EC.presence_of_element_located((By.XPATH, \"//*[@id='demo-tab-list']\")))\n",
    "driver.execute_script(\"arguments[0].scrollIntoView();\", element)\n",
    "\n",
    "elemento_drag = driver.find_element(By.XPATH, \"//*[@id='demo-tabpane-list']/div/div[6]\")\n",
    "elemento_drop = driver.find_element(By.XPATH, \"//*[@id='demo-tabpane-list']/div/div[3]\")   \n",
    "\n",
    "actions = ActionChains(driver)\n",
    "actions.drag_and_drop(elemento_drag, elemento_drop).perform()\n",
    "time.sleep(2)\n",
    "\n",
    "wait = WebDriverWait(driver, 10)\n",
    "element = wait.until(EC.presence_of_element_located((By.XPATH, \"//*[@id='demo-tab-list']\")))\n",
    "driver.execute_script(\"arguments[0].scrollIntoView();\", element)\n",
    "\n",
    "elemento_drag = driver.find_element(By.XPATH, \"//*[@id='demo-tabpane-list']/div/div[6]\")\n",
    "elemento_drop = driver.find_element(By.XPATH, \"//*[@id='demo-tabpane-list']/div/div[4]\")   \n",
    "\n",
    "actions = ActionChains(driver)\n",
    "actions.drag_and_drop(elemento_drag, elemento_drop).perform()\n",
    "time.sleep(2)\n",
    "\n",
    "wait = WebDriverWait(driver, 10)\n",
    "element = wait.until(EC.presence_of_element_located((By.XPATH, \"//*[@id='demo-tab-list']\")))\n",
    "driver.execute_script(\"arguments[0].scrollIntoView();\", element)\n",
    "\n",
    "elemento_drag = driver.find_element(By.XPATH, \"//*[@id='demo-tabpane-list']/div/div[6]\")\n",
    "elemento_drop = driver.find_element(By.XPATH, \"//*[@id='demo-tabpane-list']/div/div[5]\")   \n",
    "\n",
    "actions = ActionChains(driver)\n",
    "actions.drag_and_drop(elemento_drag, elemento_drop).perform()\n",
    "time.sleep(2)"
   ]
  }
 ],
 "metadata": {
  "kernelspec": {
   "display_name": "Python 3",
   "language": "python",
   "name": "python3"
  },
  "language_info": {
   "codemirror_mode": {
    "name": "ipython",
    "version": 3
   },
   "file_extension": ".py",
   "mimetype": "text/x-python",
   "name": "python",
   "nbconvert_exporter": "python",
   "pygments_lexer": "ipython3",
   "version": "3.7.8"
  }
 },
 "nbformat": 4,
 "nbformat_minor": 2
}
