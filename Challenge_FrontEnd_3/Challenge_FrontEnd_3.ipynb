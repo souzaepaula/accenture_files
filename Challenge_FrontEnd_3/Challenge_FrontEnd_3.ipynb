{
 "cells": [
  {
   "cell_type": "code",
   "execution_count": 22,
   "metadata": {},
   "outputs": [],
   "source": [
    "#QA Automation Challenge FrontEnd 3 \n",
    "#Rodrigo de Paula\n",
    "#Oct 2024\n",
    "\n",
    "#Libs \n",
    "from selenium import webdriver \n",
    "from selenium.webdriver.common.by import By \n",
    "from selenium.webdriver.common.keys import Keys \n",
    "from selenium.webdriver.support import expected_conditions as EC\n",
    "from selenium.webdriver.support.wait import WebDriverWait\n",
    "from selenium.webdriver.chrome.options import Options\n",
    "import time"
   ]
  },
  {
   "cell_type": "code",
   "execution_count": 23,
   "metadata": {},
   "outputs": [],
   "source": [
    "#Creating drive connection \n",
    "chrome_options = Options()\n",
    "chrome_options.add_argument(\"--start-maximized\")\n",
    "driver = webdriver.Chrome(options=chrome_options)"
   ]
  },
  {
   "cell_type": "code",
   "execution_count": 24,
   "metadata": {},
   "outputs": [],
   "source": [
    "#Accessing the URL: https://demoqa.com/\n",
    "driver.get('https://demoqa.com/')"
   ]
  },
  {
   "cell_type": "code",
   "execution_count": 25,
   "metadata": {},
   "outputs": [],
   "source": [
    "#Acessing the Elements page\n",
    "wait = WebDriverWait(driver, 10)\n",
    "element = wait.until(EC.presence_of_element_located((By.XPATH, \"//*[@id='app']/div/div/div[2]/div/div[1]/div\")))\n",
    "driver.execute_script(\"arguments[0].scrollIntoView();\", element)\n",
    "element.click()"
   ]
  },
  {
   "cell_type": "code",
   "execution_count": 26,
   "metadata": {},
   "outputs": [],
   "source": [
    "#Acessing Web Tables section \n",
    "wait = WebDriverWait(driver, 10)\n",
    "element = wait.until(EC.presence_of_element_located((By.XPATH, \"/html/body/div[2]/div/div/div/div[1]/div/div/div[1]/div/ul/li[4]\")))\n",
    "driver.execute_script(\"arguments[0].scrollIntoView();\", element)\n",
    "element.click()"
   ]
  },
  {
   "cell_type": "code",
   "execution_count": 27,
   "metadata": {},
   "outputs": [],
   "source": [
    "#Adding new user\n",
    "wait = WebDriverWait(driver, 10)\n",
    "element = wait.until(EC.presence_of_element_located((By.XPATH, \"//*[@id='addNewRecordButton']\")))\n",
    "driver.execute_script(\"arguments[0].scrollIntoView();\", element)\n",
    "element.click()"
   ]
  },
  {
   "cell_type": "code",
   "execution_count": 28,
   "metadata": {},
   "outputs": [],
   "source": [
    "#Filling user form\n",
    "wait = WebDriverWait(driver, 10)\n",
    "element = wait.until(EC.presence_of_element_located((By.XPATH, \"//*[@id='firstName']\")))\n",
    "driver.execute_script(\"arguments[0].scrollIntoView();\", element)\n",
    "element.send_keys('José')\n",
    "\n",
    "wait = WebDriverWait(driver, 10)\n",
    "element = wait.until(EC.presence_of_element_located((By.XPATH, \"//*[@id='lastName']\")))\n",
    "driver.execute_script(\"arguments[0].scrollIntoView();\", element)\n",
    "element.send_keys('da Silva')\n",
    "\n",
    "wait = WebDriverWait(driver, 10)\n",
    "element = wait.until(EC.presence_of_element_located((By.XPATH, \"//*[@id='userEmail']\")))\n",
    "driver.execute_script(\"arguments[0].scrollIntoView();\", element)\n",
    "element.send_keys('jose.silva@gmail.com')\n",
    "\n",
    "wait = WebDriverWait(driver, 10)\n",
    "element = wait.until(EC.presence_of_element_located((By.XPATH, \"//*[@id='age']\")))\n",
    "driver.execute_script(\"arguments[0].scrollIntoView();\", element)\n",
    "element.send_keys('38')\n",
    "\n",
    "wait = WebDriverWait(driver, 10)\n",
    "element = wait.until(EC.presence_of_element_located((By.XPATH, \"//*[@id='salary']\")))\n",
    "driver.execute_script(\"arguments[0].scrollIntoView();\", element)\n",
    "element.send_keys('1412')\n",
    "\n",
    "wait = WebDriverWait(driver, 10)\n",
    "element = wait.until(EC.presence_of_element_located((By.XPATH, \"//*[@id='department']\")))\n",
    "driver.execute_script(\"arguments[0].scrollIntoView();\", element)\n",
    "element.send_keys('Salles')\n",
    "\n",
    "wait = WebDriverWait(driver, 10)\n",
    "element = wait.until(EC.presence_of_element_located((By.XPATH, \"//*[@id='submit']\")))\n",
    "driver.execute_script(\"arguments[0].scrollIntoView();\", element)\n",
    "element.click()"
   ]
  },
  {
   "cell_type": "code",
   "execution_count": 29,
   "metadata": {},
   "outputs": [],
   "source": [
    "#Editing user form\n",
    "time.sleep(2)\n",
    "wait = WebDriverWait(driver, 10)\n",
    "element = wait.until(EC.presence_of_element_located((By.XPATH, \"//*[@id='edit-record-4']\")))\n",
    "driver.execute_script(\"arguments[0].scrollIntoView();\", element)\n",
    "element.click()\n",
    "\n",
    "wait = WebDriverWait(driver, 10)\n",
    "element = wait.until(EC.presence_of_element_located((By.XPATH, \"//*[@id='firstName']\")))\n",
    "driver.execute_script(\"arguments[0].scrollIntoView();\", element)\n",
    "element.clear()\n",
    "element.send_keys('João')\n",
    "\n",
    "wait = WebDriverWait(driver, 10)\n",
    "element = wait.until(EC.presence_of_element_located((By.XPATH, \"//*[@id='lastName']\")))\n",
    "driver.execute_script(\"arguments[0].scrollIntoView();\", element)\n",
    "element.clear()\n",
    "element.send_keys('Ribeiro')\n",
    "\n",
    "wait = WebDriverWait(driver, 10)\n",
    "element = wait.until(EC.presence_of_element_located((By.XPATH, \"//*[@id='userEmail']\")))\n",
    "driver.execute_script(\"arguments[0].scrollIntoView();\", element)\n",
    "element.clear()\n",
    "element.send_keys('joao.ribeiro@hotmail.com')\n",
    "\n",
    "wait = WebDriverWait(driver, 10)\n",
    "element = wait.until(EC.presence_of_element_located((By.XPATH, \"//*[@id='age']\")))\n",
    "driver.execute_script(\"arguments[0].scrollIntoView();\", element)\n",
    "element.clear()\n",
    "element.send_keys('40')\n",
    "\n",
    "wait = WebDriverWait(driver, 10)\n",
    "element = wait.until(EC.presence_of_element_located((By.XPATH, \"//*[@id='salary']\")))\n",
    "driver.execute_script(\"arguments[0].scrollIntoView();\", element)\n",
    "element.clear()\n",
    "element.send_keys('2000')\n",
    "\n",
    "wait = WebDriverWait(driver, 10)\n",
    "element = wait.until(EC.presence_of_element_located((By.XPATH, \"//*[@id='department']\")))\n",
    "driver.execute_script(\"arguments[0].scrollIntoView();\", element)\n",
    "element.clear()\n",
    "element.send_keys('Ecommerce')\n",
    "\n",
    "wait = WebDriverWait(driver, 10)\n",
    "element = wait.until(EC.presence_of_element_located((By.XPATH, \"//*[@id='submit']\")))\n",
    "driver.execute_script(\"arguments[0].scrollIntoView();\", element)\n",
    "element.click()"
   ]
  },
  {
   "cell_type": "code",
   "execution_count": 30,
   "metadata": {},
   "outputs": [],
   "source": [
    "#Deleting the user \n",
    "wait = WebDriverWait(driver, 10)\n",
    "element = wait.until(EC.presence_of_element_located((By.XPATH, \"//*[@id='delete-record-4']\")))\n",
    "driver.execute_script(\"arguments[0].scrollIntoView();\", element)\n",
    "element.click()"
   ]
  }
 ],
 "metadata": {
  "kernelspec": {
   "display_name": "Python 3",
   "language": "python",
   "name": "python3"
  },
  "language_info": {
   "codemirror_mode": {
    "name": "ipython",
    "version": 3
   },
   "file_extension": ".py",
   "mimetype": "text/x-python",
   "name": "python",
   "nbconvert_exporter": "python",
   "pygments_lexer": "ipython3",
   "version": "3.7.8"
  }
 },
 "nbformat": 4,
 "nbformat_minor": 2
}
