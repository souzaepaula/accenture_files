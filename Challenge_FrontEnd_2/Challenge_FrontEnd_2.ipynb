{
 "cells": [
  {
   "cell_type": "code",
   "execution_count": 113,
   "metadata": {},
   "outputs": [],
   "source": [
    "#QA Automation Challenge FrontEnd 2 \n",
    "#Rodrigo de Paula\n",
    "#Oct 2024\n",
    "\n",
    "#Libs \n",
    "from selenium import webdriver \n",
    "from selenium.webdriver.common.by import By \n",
    "from selenium.webdriver.support import expected_conditions as EC\n",
    "from selenium.webdriver.support.wait import WebDriverWait\n",
    "from selenium.webdriver.chrome.options import Options"
   ]
  },
  {
   "cell_type": "code",
   "execution_count": 114,
   "metadata": {},
   "outputs": [],
   "source": [
    "#Creating drive connection \n",
    "chrome_options = Options()\n",
    "chrome_options.add_argument(\"--start-maximized\")\n",
    "driver = webdriver.Chrome(options=chrome_options)"
   ]
  },
  {
   "cell_type": "code",
   "execution_count": 115,
   "metadata": {},
   "outputs": [],
   "source": [
    "#Accessing the URL: https://demoqa.com/\n",
    "driver.get('https://demoqa.com/')"
   ]
  },
  {
   "cell_type": "code",
   "execution_count": 116,
   "metadata": {},
   "outputs": [],
   "source": [
    "#Acessing the Alerts, Frame & Windows page\n",
    "wait = WebDriverWait(driver, 10)\n",
    "element = wait.until(EC.presence_of_element_located((By.XPATH, \"//*[@id='app']/div/div/div[2]/div/div[3]/div\")))\n",
    "driver.execute_script(\"arguments[0].scrollIntoView();\", element)\n",
    "element.click()"
   ]
  },
  {
   "cell_type": "code",
   "execution_count": 117,
   "metadata": {},
   "outputs": [],
   "source": [
    "#Accessing the Browser Windows page\n",
    "wait = WebDriverWait(driver, 10)\n",
    "element = wait.until(EC.presence_of_element_located((By.XPATH, \"/html/body/div[2]/div/div/div/div[1]/div/div/div[3]/div/ul/li[1]\")))\n",
    "driver.execute_script(\"arguments[0].scrollIntoView();\", element)\n",
    "element.click()"
   ]
  },
  {
   "cell_type": "code",
   "execution_count": 118,
   "metadata": {},
   "outputs": [],
   "source": [
    "#Accessing the New Window\n",
    "main_window = driver.current_window_handle\n",
    "wait = WebDriverWait(driver, 10)\n",
    "element = wait.until(EC.presence_of_element_located((By.XPATH, \"//*[@id='windowButton']\")))\n",
    "driver.execute_script(\"arguments[0].scrollIntoView();\", element)\n",
    "new_window = element\n",
    "new_window.click()\n",
    "#Switchin to new window \n",
    "wait = WebDriverWait(driver, 10)\n",
    "new_window = wait.until(EC.presence_of_element_located((By.XPATH, \"//*[@id='windowButton']\")))\n",
    "driver.execute_script(\"arguments[0].scrollIntoView();\", new_window)\n",
    "\n",
    "all_windows = driver.window_handles\n",
    "\n",
    "for window in all_windows:\n",
    "    if window != main_window:\n",
    "        driver.switch_to.window(window)\n",
    "        break"
   ]
  },
  {
   "cell_type": "code",
   "execution_count": 119,
   "metadata": {},
   "outputs": [
    {
     "name": "stdout",
     "output_type": "stream",
     "text": [
      "Correct phrase found! You are on the correct page\n"
     ]
    }
   ],
   "source": [
    "#Checking the new window's message \n",
    "wait = WebDriverWait(driver, 10)\n",
    "element = wait.until(EC.presence_of_element_located((By.ID, \"sampleHeading\")))\n",
    "driver.execute_script(\"arguments[0].scrollIntoView();\", element)\n",
    "\n",
    "correct_phrase = 'This is a sample page'\n",
    "\n",
    "try:\n",
    "    wait = WebDriverWait(driver, 10)\n",
    "    element = wait.until(EC.presence_of_element_located((By.ID, \"sampleHeading\")))\n",
    "    driver.execute_script(\"arguments[0].scrollIntoView();\", element)\n",
    "    text_page = element.text \n",
    "    if correct_phrase in text_page:\n",
    "        print('Correct phrase found! You are on the correct page')\n",
    "    else:\n",
    "        print('Correct phrase not found! Please, check!')\n",
    "except Exception as e:\n",
    "    print(f\"Erro ao tentar encontrar a frase: {e}\")\n",
    "\n",
    "#Closing the new window after message validation\n",
    "driver.close()"
   ]
  }
 ],
 "metadata": {
  "kernelspec": {
   "display_name": "Python 3",
   "language": "python",
   "name": "python3"
  },
  "language_info": {
   "codemirror_mode": {
    "name": "ipython",
    "version": 3
   },
   "file_extension": ".py",
   "mimetype": "text/x-python",
   "name": "python",
   "nbconvert_exporter": "python",
   "pygments_lexer": "ipython3",
   "version": "3.7.8"
  }
 },
 "nbformat": 4,
 "nbformat_minor": 2
}
