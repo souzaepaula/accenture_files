{
 "cells": [
  {
   "cell_type": "code",
   "execution_count": 20,
   "metadata": {},
   "outputs": [],
   "source": [
    "##\n",
    "import requests \n",
    "\n",
    "REGISTER_URL = \"https://demoqa.com/Account/v1/User\"\n",
    "\n",
    "PROFILE_URL = \"https://demoqa.com/Account/v1/User\"\n",
    "\n",
    "LOGIN_URL = \"https://demoqa.com/Account/v1/GenerateToken\""
   ]
  },
  {
   "cell_type": "code",
   "execution_count": 21,
   "metadata": {},
   "outputs": [
    {
     "name": "stdout",
     "output_type": "stream",
     "text": [
      "Falha ao criar usuário: {'code': '1204', 'message': 'User exists!'}\n"
     ]
    },
    {
     "data": {
      "text/plain": [
       "{'code': '1204', 'message': 'User exists!'}"
      ]
     },
     "execution_count": 21,
     "metadata": {},
     "output_type": "execute_result"
    }
   ],
   "source": [
    "def create_user():\n",
    "    payload = {\n",
    "        \"userName\": \"João\",\n",
    "        \"password\": \"Joao@123456\"\n",
    "    }\n",
    "\n",
    "    response = requests.post(REGISTER_URL, json=payload)\n",
    "\n",
    "    if response.status_code == 201:\n",
    "        print(\"Usuário criado com sucesso!\")\n",
    "    else:\n",
    "        print(\"Falha ao criar usuário:\", response.json())\n",
    "    \n",
    "    return response.json()\n",
    "\n",
    "create_user()"
   ]
  },
  {
   "cell_type": "code",
   "execution_count": 22,
   "metadata": {},
   "outputs": [
    {
     "ename": "TypeError",
     "evalue": "get_token() missing 2 required positional arguments: 'username' and 'password'",
     "output_type": "error",
     "traceback": [
      "\u001b[1;31m---------------------------------------------------------------------------\u001b[0m",
      "\u001b[1;31mTypeError\u001b[0m                                 Traceback (most recent call last)",
      "\u001b[1;32m~\\AppData\\Local\\Temp\\ipykernel_20188\\3128435792.py\u001b[0m in \u001b[0;36m<module>\u001b[1;34m\u001b[0m\n\u001b[0;32m     15\u001b[0m         \u001b[1;32mreturn\u001b[0m \u001b[1;32mNone\u001b[0m\u001b[1;33m\u001b[0m\u001b[1;33m\u001b[0m\u001b[0m\n\u001b[0;32m     16\u001b[0m \u001b[1;33m\u001b[0m\u001b[0m\n\u001b[1;32m---> 17\u001b[1;33m \u001b[0mget_token\u001b[0m\u001b[1;33m(\u001b[0m\u001b[1;33m)\u001b[0m\u001b[1;33m\u001b[0m\u001b[1;33m\u001b[0m\u001b[0m\n\u001b[0m",
      "\u001b[1;31mTypeError\u001b[0m: get_token() missing 2 required positional arguments: 'username' and 'password'"
     ]
    }
   ],
   "source": [
    "def get_token(username, password):\n",
    "    payload = {\n",
    "        \"username\": \"João\",\n",
    "        \"password\": \"Joao@123456\"\n",
    "    }\n",
    "    \n",
    "    response = requests.post(LOGIN_URL, json=payload)\n",
    "\n",
    "    if response.status_code == 200:\n",
    "        token = response.json().get('token')\n",
    "        print(\"Token gerado com sucesso!\")\n",
    "        return token\n",
    "    else:\n",
    "        print(\"Falha ao obter token:\", response.json())\n",
    "        return None\n",
    "    \n",
    "get_token()"
   ]
  }
 ],
 "metadata": {
  "kernelspec": {
   "display_name": "Python 3",
   "language": "python",
   "name": "python3"
  },
  "language_info": {
   "codemirror_mode": {
    "name": "ipython",
    "version": 3
   },
   "file_extension": ".py",
   "mimetype": "text/x-python",
   "name": "python",
   "nbconvert_exporter": "python",
   "pygments_lexer": "ipython3",
   "version": "3.7.8"
  }
 },
 "nbformat": 4,
 "nbformat_minor": 2
}
