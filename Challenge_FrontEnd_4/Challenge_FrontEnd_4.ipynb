{
 "cells": [
  {
   "cell_type": "code",
   "execution_count": 175,
   "metadata": {},
   "outputs": [],
   "source": [
    "#QA Automation Challenge FrontEnd 4\n",
    "#Rodrigo de Paula\n",
    "#Oct 2024\n",
    "\n",
    "#Libs \n",
    "from selenium import webdriver \n",
    "from selenium.webdriver.common.by import By \n",
    "from selenium.webdriver.common.keys import Keys \n",
    "from selenium.webdriver.support import expected_conditions as EC\n",
    "from selenium.webdriver.support.wait import WebDriverWait\n",
    "from selenium.webdriver.chrome.options import Options\n",
    "import time"
   ]
  },
  {
   "cell_type": "code",
   "execution_count": 176,
   "metadata": {},
   "outputs": [],
   "source": [
    "#Creating drive connection \n",
    "chrome_options = Options()\n",
    "chrome_options.add_argument(\"--start-maximized\")\n",
    "driver = webdriver.Chrome(options=chrome_options)"
   ]
  },
  {
   "cell_type": "code",
   "execution_count": 177,
   "metadata": {},
   "outputs": [],
   "source": [
    "#Accessing the URL: https://demoqa.com/\n",
    "driver.get('https://demoqa.com/')"
   ]
  },
  {
   "cell_type": "code",
   "execution_count": 178,
   "metadata": {},
   "outputs": [],
   "source": [
    "#Acessing the Widgets page\n",
    "wait = WebDriverWait(driver, 10)\n",
    "element = wait.until(EC.presence_of_element_located((By.XPATH, \"//*[@id='app']/div/div/div[2]/div/div[4]\")))\n",
    "driver.execute_script(\"arguments[0].scrollIntoView();\", element)\n",
    "element.click()"
   ]
  },
  {
   "cell_type": "code",
   "execution_count": 179,
   "metadata": {},
   "outputs": [],
   "source": [
    "#Acessing Progress Bar section \n",
    "wait = WebDriverWait(driver, 10)\n",
    "element = wait.until(EC.presence_of_element_located((By.XPATH, \"/html/body/div[2]/div/div/div/div[1]/div/div/div[4]/div/ul/li[5]\")))\n",
    "driver.execute_script(\"arguments[0].scrollIntoView();\", element)\n",
    "element.click()"
   ]
  },
  {
   "cell_type": "code",
   "execution_count": 180,
   "metadata": {},
   "outputs": [],
   "source": [
    "#Start Button \n",
    "wait = WebDriverWait(driver, 10)\n",
    "element = wait.until(EC.presence_of_element_located((By.XPATH, \"//*[@id='startStopButton']\")))\n",
    "driver.execute_script(\"arguments[0].scrollIntoView();\", element)\n",
    "element.click()"
   ]
  },
  {
   "cell_type": "code",
   "execution_count": 181,
   "metadata": {},
   "outputs": [
    {
     "name": "stdout",
     "output_type": "stream",
     "text": [
      "The progress bar is 25\n"
     ]
    }
   ],
   "source": [
    "#Progress Bar monitoring\n",
    "wait = WebDriverWait(driver, 10)\n",
    "element = wait.until(EC.presence_of_element_located((By.XPATH, \"/html/body/div[2]/div/div/div/div[2]/div[2]/div[2]/div\")))\n",
    "driver.execute_script(\"arguments[0].scrollIntoView();\", element)\n",
    "\n",
    "#Stop function \n",
    "def stop():\n",
    "    while True:\n",
    "        var = driver.find_element(By.XPATH, \"/html/body/div[2]/div/div/div/div[2]/div[2]/div[2]/div\").text.replace(\"%\", \"\")\n",
    "        var = int(var)\n",
    "        if var == 25:\n",
    "            wait = WebDriverWait(driver, 10)\n",
    "            element = wait.until(EC.presence_of_element_located((By.XPATH, \"//*[@id='startStopButton']\")))\n",
    "            driver.execute_script(\"arguments[0].scrollIntoView();\", element)\n",
    "            element.click()\n",
    "            print(\"The progress bar is {}\".format(var))\n",
    "            break        \n",
    "\n",
    "time.sleep(0.5)  \n",
    "stop()"
   ]
  },
  {
   "cell_type": "code",
   "execution_count": 182,
   "metadata": {},
   "outputs": [],
   "source": [
    "#Restart function \n",
    "def restart():\n",
    "    while True:\n",
    "        var_restart = driver.find_element(By.XPATH, \"/html/body/div[2]/div/div/div/div[2]/div[2]/div[2]/div\").text.replace(\"%\", \"\")\n",
    "        var_restart = int(var_restart)\n",
    "\n",
    "        if var_restart >= 25:\n",
    "            wait = WebDriverWait(driver, 10)\n",
    "            element = wait.until(EC.presence_of_element_located((By.XPATH, \"//*[@id='startStopButton']\")))\n",
    "            driver.execute_script(\"arguments[0].scrollIntoView();\", element)\n",
    "            element.click()\n",
    "            break \n",
    "\n",
    "time.sleep(5)\n",
    "restart()"
   ]
  },
  {
   "cell_type": "code",
   "execution_count": 183,
   "metadata": {},
   "outputs": [],
   "source": [
    "#reset function \n",
    "def reset():\n",
    "    while True:\n",
    "        var_reset = driver.find_element(By.XPATH, \"/html/body/div[2]/div/div/div/div[2]/div[2]/div[2]/div\").text.replace(\"%\", \"\")\n",
    "        var_reset = int(var_reset)\n",
    "\n",
    "        if var_reset == 100:\n",
    "            time.sleep(2)\n",
    "            wait = WebDriverWait(driver, 10)\n",
    "            element = wait.until(EC.presence_of_element_located((By.XPATH, \"//*[@id='resetButton']\")))\n",
    "            driver.execute_script(\"arguments[0].scrollIntoView();\", element)\n",
    "            element.click()\n",
    "            break \n",
    "reset()"
   ]
  }
 ],
 "metadata": {
  "kernelspec": {
   "display_name": "Python 3",
   "language": "python",
   "name": "python3"
  },
  "language_info": {
   "codemirror_mode": {
    "name": "ipython",
    "version": 3
   },
   "file_extension": ".py",
   "mimetype": "text/x-python",
   "name": "python",
   "nbconvert_exporter": "python",
   "pygments_lexer": "ipython3",
   "version": "3.7.8"
  }
 },
 "nbformat": 4,
 "nbformat_minor": 2
}
